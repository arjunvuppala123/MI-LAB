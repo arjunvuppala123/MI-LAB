{
 "cells": [
  {
   "cell_type": "code",
   "execution_count": 16,
   "id": "b159f458",
   "metadata": {},
   "outputs": [],
   "source": [
    "import numpy as np\n",
    "import pandas as pd\n",
    "import math"
   ]
  },
  {
   "cell_type": "code",
   "execution_count": 3,
   "id": "be71f791",
   "metadata": {},
   "outputs": [],
   "source": [
    "data = np.array([[2.7810836, 2.550537003, 0],\n",
    "                 [1.465489372, 2.362125076, 0],\n",
    "                 [3.396561688, 4.400293529, 0],\n",
    "                 [1.38807019, 1.850220317, 0],\n",
    "                 [3.06407232, 3.005305973, 0],\n",
    "                 [7.627531214, 2.759262235, 1],\n",
    "                 [5.332441248, 2.088626775, 1],\n",
    "                 [6.922596716, 1.77106367, 1],\n",
    "                 [8.675418651, -0.242068655, 1],\n",
    "                 [7.673756466, 3.508563011, 1]])\n",
    "X = data[:, 0:2]\n",
    "y = data[:, 2]"
   ]
  },
  {
   "cell_type": "code",
   "execution_count": 4,
   "id": "1aa76cbc",
   "metadata": {},
   "outputs": [
    {
     "data": {
      "text/plain": [
       "array([[ 2.7810836 ,  2.550537  ],\n",
       "       [ 1.46548937,  2.36212508],\n",
       "       [ 3.39656169,  4.40029353],\n",
       "       [ 1.38807019,  1.85022032],\n",
       "       [ 3.06407232,  3.00530597],\n",
       "       [ 7.62753121,  2.75926224],\n",
       "       [ 5.33244125,  2.08862677],\n",
       "       [ 6.92259672,  1.77106367],\n",
       "       [ 8.67541865, -0.24206865],\n",
       "       [ 7.67375647,  3.50856301]])"
      ]
     },
     "execution_count": 4,
     "metadata": {},
     "output_type": "execute_result"
    }
   ],
   "source": [
    "X"
   ]
  },
  {
   "cell_type": "code",
   "execution_count": 5,
   "id": "ec49f061",
   "metadata": {},
   "outputs": [
    {
     "data": {
      "text/plain": [
       "array([0., 0., 0., 0., 0., 1., 1., 1., 1., 1.])"
      ]
     },
     "execution_count": 5,
     "metadata": {},
     "output_type": "execute_result"
    }
   ],
   "source": [
    "y"
   ]
  },
  {
   "cell_type": "code",
   "execution_count": 6,
   "id": "0a2a61f4",
   "metadata": {},
   "outputs": [],
   "source": [
    "val = [2.6, 3.4]"
   ]
  },
  {
   "cell_type": "code",
   "execution_count": 12,
   "id": "fa58c2c1",
   "metadata": {},
   "outputs": [
    {
     "name": "stdout",
     "output_type": "stream",
     "text": [
      "2.550537003\n"
     ]
    }
   ],
   "source": [
    "print(X[0][1])"
   ]
  },
  {
   "cell_type": "code",
   "execution_count": 13,
   "id": "2e14e9c8",
   "metadata": {},
   "outputs": [],
   "source": [
    "attr_a = []\n",
    "attr_b = []\n",
    "for i in range(len(X)):\n",
    "    attr_a.append(X[i][0])\n",
    "for i in range(len(X)):\n",
    "    attr_b.append(X[i][1])"
   ]
  },
  {
   "cell_type": "code",
   "execution_count": 14,
   "id": "93d6a508",
   "metadata": {},
   "outputs": [
    {
     "data": {
      "text/plain": [
       "[2.7810836,\n",
       " 1.465489372,\n",
       " 3.396561688,\n",
       " 1.38807019,\n",
       " 3.06407232,\n",
       " 7.627531214,\n",
       " 5.332441248,\n",
       " 6.922596716,\n",
       " 8.675418651,\n",
       " 7.673756466]"
      ]
     },
     "execution_count": 14,
     "metadata": {},
     "output_type": "execute_result"
    }
   ],
   "source": [
    "attr_a"
   ]
  },
  {
   "cell_type": "code",
   "execution_count": 15,
   "id": "f176e135",
   "metadata": {},
   "outputs": [
    {
     "data": {
      "text/plain": [
       "[2.550537003,\n",
       " 2.362125076,\n",
       " 4.400293529,\n",
       " 1.850220317,\n",
       " 3.005305973,\n",
       " 2.759262235,\n",
       " 2.088626775,\n",
       " 1.77106367,\n",
       " -0.242068655,\n",
       " 3.508563011]"
      ]
     },
     "execution_count": 15,
     "metadata": {},
     "output_type": "execute_result"
    }
   ],
   "source": [
    "attr_b"
   ]
  },
  {
   "cell_type": "code",
   "execution_count": 17,
   "id": "38b81717",
   "metadata": {},
   "outputs": [],
   "source": [
    "dist = []\n",
    "for i in range(len(X)):\n",
    "    dist.append(math.sqrt((attr_a[i]-val[0])*(attr_a[i]-val[0]) + (attr_b[i]-val[1])*(attr_b[i]-val[1]) ))"
   ]
  },
  {
   "cell_type": "code",
   "execution_count": 18,
   "id": "724f0a56",
   "metadata": {},
   "outputs": [
    {
     "data": {
      "text/plain": [
       "[0.8685497415008433,\n",
       " 1.53762762817041,\n",
       " 1.2787093754832184,\n",
       " 1.9673817449102795,\n",
       " 0.6092179356680654,\n",
       " 5.068196423900864,\n",
       " 3.030830729192691,\n",
       " 4.619337175003341,\n",
       " 7.083457903640859,\n",
       " 5.074917792795683]"
      ]
     },
     "execution_count": 18,
     "metadata": {},
     "output_type": "execute_result"
    }
   ],
   "source": [
    "dist"
   ]
  },
  {
   "cell_type": "code",
   "execution_count": 20,
   "id": "8998175e",
   "metadata": {},
   "outputs": [],
   "source": [
    "df = pd.DataFrame(data)"
   ]
  },
  {
   "cell_type": "code",
   "execution_count": 21,
   "id": "52277736",
   "metadata": {},
   "outputs": [
    {
     "data": {
      "text/html": [
       "<div>\n",
       "<style scoped>\n",
       "    .dataframe tbody tr th:only-of-type {\n",
       "        vertical-align: middle;\n",
       "    }\n",
       "\n",
       "    .dataframe tbody tr th {\n",
       "        vertical-align: top;\n",
       "    }\n",
       "\n",
       "    .dataframe thead th {\n",
       "        text-align: right;\n",
       "    }\n",
       "</style>\n",
       "<table border=\"1\" class=\"dataframe\">\n",
       "  <thead>\n",
       "    <tr style=\"text-align: right;\">\n",
       "      <th></th>\n",
       "      <th>0</th>\n",
       "      <th>1</th>\n",
       "      <th>2</th>\n",
       "    </tr>\n",
       "  </thead>\n",
       "  <tbody>\n",
       "    <tr>\n",
       "      <th>0</th>\n",
       "      <td>2.781084</td>\n",
       "      <td>2.550537</td>\n",
       "      <td>0.0</td>\n",
       "    </tr>\n",
       "    <tr>\n",
       "      <th>1</th>\n",
       "      <td>1.465489</td>\n",
       "      <td>2.362125</td>\n",
       "      <td>0.0</td>\n",
       "    </tr>\n",
       "    <tr>\n",
       "      <th>2</th>\n",
       "      <td>3.396562</td>\n",
       "      <td>4.400294</td>\n",
       "      <td>0.0</td>\n",
       "    </tr>\n",
       "    <tr>\n",
       "      <th>3</th>\n",
       "      <td>1.388070</td>\n",
       "      <td>1.850220</td>\n",
       "      <td>0.0</td>\n",
       "    </tr>\n",
       "    <tr>\n",
       "      <th>4</th>\n",
       "      <td>3.064072</td>\n",
       "      <td>3.005306</td>\n",
       "      <td>0.0</td>\n",
       "    </tr>\n",
       "    <tr>\n",
       "      <th>5</th>\n",
       "      <td>7.627531</td>\n",
       "      <td>2.759262</td>\n",
       "      <td>1.0</td>\n",
       "    </tr>\n",
       "    <tr>\n",
       "      <th>6</th>\n",
       "      <td>5.332441</td>\n",
       "      <td>2.088627</td>\n",
       "      <td>1.0</td>\n",
       "    </tr>\n",
       "    <tr>\n",
       "      <th>7</th>\n",
       "      <td>6.922597</td>\n",
       "      <td>1.771064</td>\n",
       "      <td>1.0</td>\n",
       "    </tr>\n",
       "    <tr>\n",
       "      <th>8</th>\n",
       "      <td>8.675419</td>\n",
       "      <td>-0.242069</td>\n",
       "      <td>1.0</td>\n",
       "    </tr>\n",
       "    <tr>\n",
       "      <th>9</th>\n",
       "      <td>7.673756</td>\n",
       "      <td>3.508563</td>\n",
       "      <td>1.0</td>\n",
       "    </tr>\n",
       "  </tbody>\n",
       "</table>\n",
       "</div>"
      ],
      "text/plain": [
       "          0         1    2\n",
       "0  2.781084  2.550537  0.0\n",
       "1  1.465489  2.362125  0.0\n",
       "2  3.396562  4.400294  0.0\n",
       "3  1.388070  1.850220  0.0\n",
       "4  3.064072  3.005306  0.0\n",
       "5  7.627531  2.759262  1.0\n",
       "6  5.332441  2.088627  1.0\n",
       "7  6.922597  1.771064  1.0\n",
       "8  8.675419 -0.242069  1.0\n",
       "9  7.673756  3.508563  1.0"
      ]
     },
     "execution_count": 21,
     "metadata": {},
     "output_type": "execute_result"
    }
   ],
   "source": [
    "df"
   ]
  },
  {
   "cell_type": "code",
   "execution_count": 22,
   "id": "9e2435d9",
   "metadata": {},
   "outputs": [],
   "source": [
    "df[\"dist\"] = dist"
   ]
  },
  {
   "cell_type": "code",
   "execution_count": 23,
   "id": "319c190a",
   "metadata": {},
   "outputs": [
    {
     "data": {
      "text/html": [
       "<div>\n",
       "<style scoped>\n",
       "    .dataframe tbody tr th:only-of-type {\n",
       "        vertical-align: middle;\n",
       "    }\n",
       "\n",
       "    .dataframe tbody tr th {\n",
       "        vertical-align: top;\n",
       "    }\n",
       "\n",
       "    .dataframe thead th {\n",
       "        text-align: right;\n",
       "    }\n",
       "</style>\n",
       "<table border=\"1\" class=\"dataframe\">\n",
       "  <thead>\n",
       "    <tr style=\"text-align: right;\">\n",
       "      <th></th>\n",
       "      <th>0</th>\n",
       "      <th>1</th>\n",
       "      <th>2</th>\n",
       "      <th>dist</th>\n",
       "    </tr>\n",
       "  </thead>\n",
       "  <tbody>\n",
       "    <tr>\n",
       "      <th>0</th>\n",
       "      <td>2.781084</td>\n",
       "      <td>2.550537</td>\n",
       "      <td>0.0</td>\n",
       "      <td>0.868550</td>\n",
       "    </tr>\n",
       "    <tr>\n",
       "      <th>1</th>\n",
       "      <td>1.465489</td>\n",
       "      <td>2.362125</td>\n",
       "      <td>0.0</td>\n",
       "      <td>1.537628</td>\n",
       "    </tr>\n",
       "    <tr>\n",
       "      <th>2</th>\n",
       "      <td>3.396562</td>\n",
       "      <td>4.400294</td>\n",
       "      <td>0.0</td>\n",
       "      <td>1.278709</td>\n",
       "    </tr>\n",
       "    <tr>\n",
       "      <th>3</th>\n",
       "      <td>1.388070</td>\n",
       "      <td>1.850220</td>\n",
       "      <td>0.0</td>\n",
       "      <td>1.967382</td>\n",
       "    </tr>\n",
       "    <tr>\n",
       "      <th>4</th>\n",
       "      <td>3.064072</td>\n",
       "      <td>3.005306</td>\n",
       "      <td>0.0</td>\n",
       "      <td>0.609218</td>\n",
       "    </tr>\n",
       "    <tr>\n",
       "      <th>5</th>\n",
       "      <td>7.627531</td>\n",
       "      <td>2.759262</td>\n",
       "      <td>1.0</td>\n",
       "      <td>5.068196</td>\n",
       "    </tr>\n",
       "    <tr>\n",
       "      <th>6</th>\n",
       "      <td>5.332441</td>\n",
       "      <td>2.088627</td>\n",
       "      <td>1.0</td>\n",
       "      <td>3.030831</td>\n",
       "    </tr>\n",
       "    <tr>\n",
       "      <th>7</th>\n",
       "      <td>6.922597</td>\n",
       "      <td>1.771064</td>\n",
       "      <td>1.0</td>\n",
       "      <td>4.619337</td>\n",
       "    </tr>\n",
       "    <tr>\n",
       "      <th>8</th>\n",
       "      <td>8.675419</td>\n",
       "      <td>-0.242069</td>\n",
       "      <td>1.0</td>\n",
       "      <td>7.083458</td>\n",
       "    </tr>\n",
       "    <tr>\n",
       "      <th>9</th>\n",
       "      <td>7.673756</td>\n",
       "      <td>3.508563</td>\n",
       "      <td>1.0</td>\n",
       "      <td>5.074918</td>\n",
       "    </tr>\n",
       "  </tbody>\n",
       "</table>\n",
       "</div>"
      ],
      "text/plain": [
       "          0         1    2      dist\n",
       "0  2.781084  2.550537  0.0  0.868550\n",
       "1  1.465489  2.362125  0.0  1.537628\n",
       "2  3.396562  4.400294  0.0  1.278709\n",
       "3  1.388070  1.850220  0.0  1.967382\n",
       "4  3.064072  3.005306  0.0  0.609218\n",
       "5  7.627531  2.759262  1.0  5.068196\n",
       "6  5.332441  2.088627  1.0  3.030831\n",
       "7  6.922597  1.771064  1.0  4.619337\n",
       "8  8.675419 -0.242069  1.0  7.083458\n",
       "9  7.673756  3.508563  1.0  5.074918"
      ]
     },
     "execution_count": 23,
     "metadata": {},
     "output_type": "execute_result"
    }
   ],
   "source": [
    "df"
   ]
  },
  {
   "cell_type": "code",
   "execution_count": 24,
   "id": "f3724ff2",
   "metadata": {},
   "outputs": [],
   "source": [
    "res = df.sort_values(by = 'dist')"
   ]
  },
  {
   "cell_type": "code",
   "execution_count": 25,
   "id": "a52d9027",
   "metadata": {},
   "outputs": [
    {
     "data": {
      "text/html": [
       "<div>\n",
       "<style scoped>\n",
       "    .dataframe tbody tr th:only-of-type {\n",
       "        vertical-align: middle;\n",
       "    }\n",
       "\n",
       "    .dataframe tbody tr th {\n",
       "        vertical-align: top;\n",
       "    }\n",
       "\n",
       "    .dataframe thead th {\n",
       "        text-align: right;\n",
       "    }\n",
       "</style>\n",
       "<table border=\"1\" class=\"dataframe\">\n",
       "  <thead>\n",
       "    <tr style=\"text-align: right;\">\n",
       "      <th></th>\n",
       "      <th>0</th>\n",
       "      <th>1</th>\n",
       "      <th>2</th>\n",
       "      <th>dist</th>\n",
       "    </tr>\n",
       "  </thead>\n",
       "  <tbody>\n",
       "    <tr>\n",
       "      <th>4</th>\n",
       "      <td>3.064072</td>\n",
       "      <td>3.005306</td>\n",
       "      <td>0.0</td>\n",
       "      <td>0.609218</td>\n",
       "    </tr>\n",
       "    <tr>\n",
       "      <th>0</th>\n",
       "      <td>2.781084</td>\n",
       "      <td>2.550537</td>\n",
       "      <td>0.0</td>\n",
       "      <td>0.868550</td>\n",
       "    </tr>\n",
       "    <tr>\n",
       "      <th>2</th>\n",
       "      <td>3.396562</td>\n",
       "      <td>4.400294</td>\n",
       "      <td>0.0</td>\n",
       "      <td>1.278709</td>\n",
       "    </tr>\n",
       "    <tr>\n",
       "      <th>1</th>\n",
       "      <td>1.465489</td>\n",
       "      <td>2.362125</td>\n",
       "      <td>0.0</td>\n",
       "      <td>1.537628</td>\n",
       "    </tr>\n",
       "    <tr>\n",
       "      <th>3</th>\n",
       "      <td>1.388070</td>\n",
       "      <td>1.850220</td>\n",
       "      <td>0.0</td>\n",
       "      <td>1.967382</td>\n",
       "    </tr>\n",
       "    <tr>\n",
       "      <th>6</th>\n",
       "      <td>5.332441</td>\n",
       "      <td>2.088627</td>\n",
       "      <td>1.0</td>\n",
       "      <td>3.030831</td>\n",
       "    </tr>\n",
       "    <tr>\n",
       "      <th>7</th>\n",
       "      <td>6.922597</td>\n",
       "      <td>1.771064</td>\n",
       "      <td>1.0</td>\n",
       "      <td>4.619337</td>\n",
       "    </tr>\n",
       "    <tr>\n",
       "      <th>5</th>\n",
       "      <td>7.627531</td>\n",
       "      <td>2.759262</td>\n",
       "      <td>1.0</td>\n",
       "      <td>5.068196</td>\n",
       "    </tr>\n",
       "    <tr>\n",
       "      <th>9</th>\n",
       "      <td>7.673756</td>\n",
       "      <td>3.508563</td>\n",
       "      <td>1.0</td>\n",
       "      <td>5.074918</td>\n",
       "    </tr>\n",
       "    <tr>\n",
       "      <th>8</th>\n",
       "      <td>8.675419</td>\n",
       "      <td>-0.242069</td>\n",
       "      <td>1.0</td>\n",
       "      <td>7.083458</td>\n",
       "    </tr>\n",
       "  </tbody>\n",
       "</table>\n",
       "</div>"
      ],
      "text/plain": [
       "          0         1    2      dist\n",
       "4  3.064072  3.005306  0.0  0.609218\n",
       "0  2.781084  2.550537  0.0  0.868550\n",
       "2  3.396562  4.400294  0.0  1.278709\n",
       "1  1.465489  2.362125  0.0  1.537628\n",
       "3  1.388070  1.850220  0.0  1.967382\n",
       "6  5.332441  2.088627  1.0  3.030831\n",
       "7  6.922597  1.771064  1.0  4.619337\n",
       "5  7.627531  2.759262  1.0  5.068196\n",
       "9  7.673756  3.508563  1.0  5.074918\n",
       "8  8.675419 -0.242069  1.0  7.083458"
      ]
     },
     "execution_count": 25,
     "metadata": {},
     "output_type": "execute_result"
    }
   ],
   "source": [
    "res"
   ]
  },
  {
   "cell_type": "code",
   "execution_count": 26,
   "id": "2243d65c",
   "metadata": {},
   "outputs": [],
   "source": [
    "k = 3"
   ]
  },
  {
   "cell_type": "code",
   "execution_count": 27,
   "id": "0ebd7e2e",
   "metadata": {},
   "outputs": [
    {
     "data": {
      "text/html": [
       "<div>\n",
       "<style scoped>\n",
       "    .dataframe tbody tr th:only-of-type {\n",
       "        vertical-align: middle;\n",
       "    }\n",
       "\n",
       "    .dataframe tbody tr th {\n",
       "        vertical-align: top;\n",
       "    }\n",
       "\n",
       "    .dataframe thead th {\n",
       "        text-align: right;\n",
       "    }\n",
       "</style>\n",
       "<table border=\"1\" class=\"dataframe\">\n",
       "  <thead>\n",
       "    <tr style=\"text-align: right;\">\n",
       "      <th></th>\n",
       "      <th>0</th>\n",
       "      <th>1</th>\n",
       "      <th>2</th>\n",
       "      <th>dist</th>\n",
       "    </tr>\n",
       "  </thead>\n",
       "  <tbody>\n",
       "    <tr>\n",
       "      <th>4</th>\n",
       "      <td>3.064072</td>\n",
       "      <td>3.005306</td>\n",
       "      <td>0.0</td>\n",
       "      <td>0.609218</td>\n",
       "    </tr>\n",
       "    <tr>\n",
       "      <th>0</th>\n",
       "      <td>2.781084</td>\n",
       "      <td>2.550537</td>\n",
       "      <td>0.0</td>\n",
       "      <td>0.868550</td>\n",
       "    </tr>\n",
       "    <tr>\n",
       "      <th>2</th>\n",
       "      <td>3.396562</td>\n",
       "      <td>4.400294</td>\n",
       "      <td>0.0</td>\n",
       "      <td>1.278709</td>\n",
       "    </tr>\n",
       "  </tbody>\n",
       "</table>\n",
       "</div>"
      ],
      "text/plain": [
       "          0         1    2      dist\n",
       "4  3.064072  3.005306  0.0  0.609218\n",
       "0  2.781084  2.550537  0.0  0.868550\n",
       "2  3.396562  4.400294  0.0  1.278709"
      ]
     },
     "execution_count": 27,
     "metadata": {},
     "output_type": "execute_result"
    }
   ],
   "source": [
    "res.head(3)"
   ]
  },
  {
   "cell_type": "code",
   "execution_count": 28,
   "id": "d6de1694",
   "metadata": {},
   "outputs": [],
   "source": [
    "res = res.head(3)"
   ]
  },
  {
   "cell_type": "code",
   "execution_count": 29,
   "id": "ce6551de",
   "metadata": {},
   "outputs": [
    {
     "data": {
      "text/html": [
       "<div>\n",
       "<style scoped>\n",
       "    .dataframe tbody tr th:only-of-type {\n",
       "        vertical-align: middle;\n",
       "    }\n",
       "\n",
       "    .dataframe tbody tr th {\n",
       "        vertical-align: top;\n",
       "    }\n",
       "\n",
       "    .dataframe thead th {\n",
       "        text-align: right;\n",
       "    }\n",
       "</style>\n",
       "<table border=\"1\" class=\"dataframe\">\n",
       "  <thead>\n",
       "    <tr style=\"text-align: right;\">\n",
       "      <th></th>\n",
       "      <th>0</th>\n",
       "      <th>1</th>\n",
       "      <th>2</th>\n",
       "      <th>dist</th>\n",
       "    </tr>\n",
       "  </thead>\n",
       "  <tbody>\n",
       "    <tr>\n",
       "      <th>4</th>\n",
       "      <td>3.064072</td>\n",
       "      <td>3.005306</td>\n",
       "      <td>0.0</td>\n",
       "      <td>0.609218</td>\n",
       "    </tr>\n",
       "    <tr>\n",
       "      <th>0</th>\n",
       "      <td>2.781084</td>\n",
       "      <td>2.550537</td>\n",
       "      <td>0.0</td>\n",
       "      <td>0.868550</td>\n",
       "    </tr>\n",
       "    <tr>\n",
       "      <th>2</th>\n",
       "      <td>3.396562</td>\n",
       "      <td>4.400294</td>\n",
       "      <td>0.0</td>\n",
       "      <td>1.278709</td>\n",
       "    </tr>\n",
       "  </tbody>\n",
       "</table>\n",
       "</div>"
      ],
      "text/plain": [
       "          0         1    2      dist\n",
       "4  3.064072  3.005306  0.0  0.609218\n",
       "0  2.781084  2.550537  0.0  0.868550\n",
       "2  3.396562  4.400294  0.0  1.278709"
      ]
     },
     "execution_count": 29,
     "metadata": {},
     "output_type": "execute_result"
    }
   ],
   "source": [
    "res"
   ]
  },
  {
   "cell_type": "code",
   "execution_count": 31,
   "id": "a8048343",
   "metadata": {},
   "outputs": [
    {
     "data": {
      "text/plain": [
       "0    0.0\n",
       "dtype: float64"
      ]
     },
     "execution_count": 31,
     "metadata": {},
     "output_type": "execute_result"
    }
   ],
   "source": [
    "res[2].mode()"
   ]
  },
  {
   "cell_type": "code",
   "execution_count": null,
   "id": "db607561",
   "metadata": {},
   "outputs": [],
   "source": []
  }
 ],
 "metadata": {
  "kernelspec": {
   "display_name": "Python 3 (ipykernel)",
   "language": "python",
   "name": "python3"
  },
  "language_info": {
   "codemirror_mode": {
    "name": "ipython",
    "version": 3
   },
   "file_extension": ".py",
   "mimetype": "text/x-python",
   "name": "python",
   "nbconvert_exporter": "python",
   "pygments_lexer": "ipython3",
   "version": "3.8.5"
  }
 },
 "nbformat": 4,
 "nbformat_minor": 5
}
